{
 "cells": [
  {
   "cell_type": "markdown",
   "metadata": {},
   "source": [
    "#Scraper\n",
    "###Reading data from Twitter"
   ]
  },
  {
   "cell_type": "markdown",
   "metadata": {},
   "source": [
    "Note: Stop Analyzer.ipynb if it is running."
   ]
  },
  {
   "cell_type": "markdown",
   "metadata": {},
   "source": [
    "###Install packages\n",
    "You should run the following line to install requests_oauthlib and oauth package if you have not installed before"
   ]
  },
  {
   "cell_type": "code",
   "execution_count": 2,
   "metadata": {
    "collapsed": false
   },
   "outputs": [
    {
     "name": "stdout",
     "output_type": "stream",
     "text": [
      "Requirement already satisfied (use --upgrade to upgrade): requests-oauthlib in /home/notebook/ka_env/lib/python2.7/site-packages\n",
      "Cleaning up...\n",
      "Requirement already satisfied (use --upgrade to upgrade): oauth2 in /home/notebook/ka_env/lib/python2.7/site-packages\n",
      "Cleaning up...\n"
     ]
    }
   ],
   "source": [
    "!pip install requests_oauthlib\n",
    "!pip install oauth2"
   ]
  },
  {
   "cell_type": "code",
   "execution_count": 2,
   "metadata": {
    "collapsed": false
   },
   "outputs": [],
   "source": [
    "import socket\n",
    "import sys\n",
    "from thread import *\n",
    "import requests\n",
    "import requests_oauthlib\n",
    "import json\n",
    "import oauth2 as oauth\n",
    "from datetime import datetime\n",
    "import time"
   ]
  },
  {
   "cell_type": "markdown",
   "metadata": {},
   "source": [
    "Replace the access and consumer key with yours"
   ]
  },
  {
   "cell_type": "code",
   "execution_count": 5,
   "metadata": {
    "collapsed": false
   },
   "outputs": [],
   "source": [
    "#Variables that contains the user credentials to access Twitter API\n",
    "access_token = \"xxxxxxxxxxxx\"\n",
    "access_token_secret = \"xxxxxxxxxxxx\"\n",
    "consumer_key = \"xxxxxxxxxx\"\n",
    "consumer_secret = \"xxxxxxxxxxxx\"\n",
    "auth = requests_oauthlib.OAuth1(consumer_key, consumer_secret,access_token, access_token_secret)\n",
    "\n",
    "\n",
    "\n",
    "#Function for handling connections. This will be used to read data from tweeter and write to socket\n",
    "def clientthread(conn):\n",
    "    url='https://stream.twitter.com/1.1/statuses/filter.json'\n",
    "    #\n",
    "    data      = [('language', 'en'), ('locations', '-130,-20,100,50')]\n",
    "    #,('track','ibm,google,microsoft')\n",
    "    query_url = url + '?' + '&'.join([str(t[0]) + '=' + str(t[1]) for t in data])\n",
    "    response  = requests.get(query_url, auth=auth, stream=True)\n",
    "    print(query_url, response) # 200 <OK>\n",
    "    count = 0\n",
    "    for line in response.iter_lines():  # Iterate over streaming tweets\n",
    "        try:\n",
    "            if count > 10000000:\n",
    "                break\n",
    "            post= json.loads(line.decode('utf-8'))\n",
    "            #contents = [post['text'], post['coordinates'], post['place']]\n",
    "            count+= 1\n",
    "            conn.send(line+'\\n')\n",
    "            #time.sleep(1)\n",
    "\n",
    "            print (str(datetime.now())+' '+'count:'+str(count))\n",
    "        except:\n",
    "            e = sys.exc_info()[0]\n",
    "            print( \"Error: %s\" % e )\n",
    "    conn.close()"
   ]
  },
  {
   "cell_type": "markdown",
   "metadata": {},
   "source": [
    "Note: if running the following cell shows error \"Bind failed. Error Code : Message Address already in use\", stop this notebook (and Analayzer.ipynb), close it and run it again."
   ]
  },
  {
   "cell_type": "code",
   "execution_count": 6,
   "metadata": {
    "collapsed": false
   },
   "outputs": [
    {
     "name": "stdout",
     "output_type": "stream",
     "text": [
      "Socket created\n",
      "Bind failed. Error Code : 98 Message Address already in use\n"
     ]
    },
    {
     "ename": "SystemExit",
     "evalue": "",
     "output_type": "error",
     "traceback": [
      "An exception has occurred, use %tb to see the full traceback.\n",
      "\u001b[1;31mSystemExit\u001b[0m\n"
     ]
    },
    {
     "name": "stderr",
     "output_type": "stream",
     "text": [
      "To exit: use 'exit', 'quit', or Ctrl-D.\n"
     ]
    }
   ],
   "source": [
    "HOST = ''  \n",
    "PORT = 9994 # Arbitrary non-privileged port\n",
    "\n",
    "s = socket.socket(socket.AF_INET, socket.SOCK_STREAM)\n",
    "print 'Socket created'\n",
    "\n",
    "#Bind socket to local host and port\n",
    "try:\n",
    "    s.bind((HOST, PORT))\n",
    "except socket.error , msg:\n",
    "    print 'Bind failed. Error Code : ' + str(msg[0]) + ' Message ' + msg[1]\n",
    "    sys.exit()\n",
    "\n",
    "print 'Socket bind complete'\n",
    "\n",
    "#Start listening on socket\n",
    "s.listen(10)\n",
    "print 'Socket now listening'\n",
    "\n",
    "\n",
    "\n",
    "#now keep talking with the client\n",
    "while 1:\n",
    "    #wait to accept a connection - blocking call\n",
    "    conn, addr = s.accept()\n",
    "    print 'Connected with ' + addr[0] + ':' + str(addr[1])\n",
    "\n",
    "    #start new thread takes 1st argument as a function name to be run, second is the tuple of arguments to the function.\n",
    "    start_new_thread(clientthread ,(conn,))\n",
    "\n",
    "s.close()\n",
    "\n"
   ]
  }
 ],
 "metadata": {
  "kernelspec": {
   "display_name": "Python 2",
   "language": "python",
   "name": "python2"
  },
  "language_info": {
   "codemirror_mode": {
    "name": "ipython",
    "version": 2
   },
   "file_extension": ".py",
   "mimetype": "text/x-python",
   "name": "python",
   "nbconvert_exporter": "python",
   "pygments_lexer": "ipython2",
   "version": "2.7.11"
  }
 },
 "nbformat": 4,
 "nbformat_minor": 0
}
